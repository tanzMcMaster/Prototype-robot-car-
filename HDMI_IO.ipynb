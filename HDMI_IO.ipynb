{
 "cells": [
  {
   "cell_type": "code",
   "execution_count": null,
   "metadata": {},
   "outputs": [],
   "source": [
    "import cv2\n",
    "from pynq.lib.video import *\n",
    "from pynq.overlays.base import BaseOverlay"
   ]
  },
  {
   "cell_type": "code",
   "execution_count": null,
   "metadata": {},
   "outputs": [],
   "source": [
    "## Format frame for HDMI output ##\n",
    "\n",
    "def format_frame(hdmi_out, frame):\n",
    "    \n",
    "    # Read input frame size\n",
    "    img_h = frame.shape[0]\n",
    "    img_w = frame.shape[1]\n",
    "    \n",
    "    # Create new video frame\n",
    "    outframe = hdmi_out.newframe()\n",
    "    \n",
    "    # Fill new video frame with zero\n",
    "    zero_img = np.zeros((480, 640), dtype=np.uint8)\n",
    "    outframe[0:480,0:640] = zero_img[0:480,0:640]\n",
    "\n",
    "    # Transfer input frame to the video frame\n",
    "    # For Gray imge\n",
    "    outframe[0:img_h,0:img_w] = frame[0:img_h,0:img_w]\n",
    "    \n",
    "    return outframe"
   ]
  },
  {
   "cell_type": "code",
   "execution_count": null,
   "metadata": {},
   "outputs": [],
   "source": [
    "# Load the overlay\n",
    "base = BaseOverlay(\"base.bit\")"
   ]
  },
  {
   "cell_type": "code",
   "execution_count": null,
   "metadata": {},
   "outputs": [],
   "source": [
    "# Initialize HDMI I/O\n",
    "hdmi_in = base.video.hdmi_in\n",
    "hdmi_out = base.video.hdmi_out\n",
    "\n",
    "# Configure HDMI input to gray scale\n",
    "hdmi_in.configure(PIXEL_GRAY)\n",
    "hdmi_in.start()\n",
    "\n",
    "# Configure Output mode (w, h, bit per pixel)\n",
    "hdmi_out_mode = VideoMode(640,480,8)\n",
    "hdmi_out.configure(hdmi_out_mode, PIXEL_GRAY)\n",
    "hdmi_out.start()"
   ]
  },
  {
   "cell_type": "code",
   "execution_count": null,
   "metadata": {},
   "outputs": [],
   "source": [
    "while(True):\n",
    "    # Read frame from HDMI input\n",
    "    frame = hdmi_in.readframe()\n",
    "    \n",
    "    # Resize img size\n",
    "    # Half of 1280 * 720\n",
    "    # 1/3 of 1920 * 1080\n",
    "    resized = cv2.resize(frame, (640,360)) \n",
    "\n",
    "    # Format frame for HDMI output\n",
    "    outframe = format_frame(hdmi_out, resized)\n",
    "    \n",
    "    # Output frame to HDMI\n",
    "    hdmi_out.writeframe(outframe)   "
   ]
  },
  {
   "cell_type": "code",
   "execution_count": null,
   "metadata": {},
   "outputs": [],
   "source": [
    "# Clear all\n",
    "hdmi_out.stop()\n",
    "hdmi_in.stop()\n",
    "del hdmi_in, hdmi_out"
   ]
  },
  {
   "cell_type": "code",
   "execution_count": null,
   "metadata": {},
   "outputs": [],
   "source": []
  }
 ],
 "metadata": {
  "kernelspec": {
   "display_name": "Python 3",
   "language": "python",
   "name": "python3"
  }
 },
 "nbformat": 4,
 "nbformat_minor": 2
}
