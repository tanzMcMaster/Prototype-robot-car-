{
 "cells": [
  {
   "cell_type": "code",
   "execution_count": null,
   "metadata": {},
   "outputs": [],
   "source": [
    "import time\n",
    "from pynq.lib.arduino import Arduino_IO\n",
    "from pynq.overlays.base import BaseOverlay\n",
    "\n",
    "base = BaseOverlay(\"base.bit\")\n",
    "\n",
    "enable_L  = Arduino_IO(base.ARDUINO, 5, 'out')\n",
    "forward_L = Arduino_IO(base.ARDUINO, 7, 'out')\n",
    "backward_L = Arduino_IO(base.ARDUINO, 8, 'out')\n",
    "\n",
    "enable_R = Arduino_IO(base.ARDUINO, 6, 'out')\n",
    "forward_R = Arduino_IO(base.ARDUINO, 11, 'out')\n",
    "backward_R = Arduino_IO(base.ARDUINO, 9, 'out')"
   ]
  },
  {
   "cell_type": "code",
   "execution_count": null,
   "metadata": {},
   "outputs": [],
   "source": [
    "def stop():\n",
    "    enable_L.write(0)\n",
    "    forward_L.write(0)\n",
    "    backward_L.write(0)\n",
    "\n",
    "    enable_R.write(0)\n",
    "    forward_R.write(0)\n",
    "    backward_R.write(0)"
   ]
  },
  {
   "cell_type": "code",
   "execution_count": null,
   "metadata": {},
   "outputs": [],
   "source": [
    "def forward():\n",
    "    enable_L.write(1)\n",
    "    forward_L.write(1)\n",
    "    backward_L.write(0)\n",
    "\n",
    "    enable_R.write(1)\n",
    "    forward_R.write(1)\n",
    "    backward_R.write(0)"
   ]
  },
  {
   "cell_type": "code",
   "execution_count": null,
   "metadata": {},
   "outputs": [],
   "source": [
    "def backward():\n",
    "    enable_L.write(1)\n",
    "    forward_L.write(0)\n",
    "    backward_L.write(1)\n",
    "\n",
    "    enable_R.write(1)\n",
    "    forward_R.write(0)\n",
    "    backward_R.write(1)"
   ]
  },
  {
   "cell_type": "code",
   "execution_count": null,
   "metadata": {},
   "outputs": [],
   "source": [
    "def left():\n",
    "    enable_L.write(1)\n",
    "    forward_L.write(0)\n",
    "    backward_L.write(1)\n",
    "\n",
    "    enable_R.write(1)\n",
    "    forward_R.write(1)\n",
    "    backward_R.write(0)"
   ]
  },
  {
   "cell_type": "code",
   "execution_count": null,
   "metadata": {},
   "outputs": [],
   "source": [
    "def right():\n",
    "    enable_L.write(1)\n",
    "    forward_L.write(1)\n",
    "    backward_L.write(0)\n",
    "\n",
    "    enable_R.write(1)\n",
    "    forward_R.write(0)\n",
    "    backward_R.write(1)"
   ]
  },
  {
   "cell_type": "code",
   "execution_count": null,
   "metadata": {},
   "outputs": [],
   "source": [
    "forward()"
   ]
  },
  {
   "cell_type": "code",
   "execution_count": null,
   "metadata": {},
   "outputs": [],
   "source": [
    "stop()"
   ]
  },
  {
   "cell_type": "code",
   "execution_count": null,
   "metadata": {},
   "outputs": [],
   "source": []
  }
 ],
 "metadata": {
  "kernelspec": {
   "display_name": "Python 3",
   "language": "python",
   "name": "python3"
  },
  "language_info": {
   "codemirror_mode": {
    "name": "ipython",
    "version": 3
   },
   "file_extension": ".py",
   "mimetype": "text/x-python",
   "name": "python",
   "nbconvert_exporter": "python",
   "pygments_lexer": "ipython3",
   "version": "3.6.5"
  }
 },
 "nbformat": 4,
 "nbformat_minor": 2
}
