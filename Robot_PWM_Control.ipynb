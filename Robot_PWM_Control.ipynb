{
 "cells": [
  {
   "cell_type": "code",
   "execution_count": null,
   "metadata": {},
   "outputs": [],
   "source": [
    "import time\n",
    "from pynq.lib import Pmod_PWM\n",
    "from pynq.lib.arduino import Arduino_IO\n",
    "from pynq.overlays.base import BaseOverlay\n",
    "\n",
    "base = BaseOverlay(\"base.bit\")\n",
    "\n",
    "enable_L  = Pmod_PWM(base.PMODA,1)\n",
    "forward_L = Arduino_IO(base.ARDUINO, 7, 'out')\n",
    "backward_L = Arduino_IO(base.ARDUINO, 8, 'out')\n",
    "\n",
    "enable_R = Pmod_PWM(base.PMODB,1)\n",
    "forward_R = Arduino_IO(base.ARDUINO, 11, 'out')\n",
    "backward_R = Arduino_IO(base.ARDUINO, 9, 'out')"
   ]
  },
  {
   "cell_type": "code",
   "execution_count": null,
   "metadata": {},
   "outputs": [],
   "source": [
    "def stop():\n",
    "    enable_L.stop()\n",
    "    forward_L.write(0)\n",
    "    backward_L.write(0)\n",
    "\n",
    "    enable_R.stop()\n",
    "    forward_R.write(0)\n",
    "    backward_R.write(0)"
   ]
  },
  {
   "cell_type": "code",
   "execution_count": null,
   "metadata": {},
   "outputs": [],
   "source": [
    "def forward(duty):\n",
    "    enable_L.generate(10,duty)\n",
    "    forward_L.write(1)\n",
    "    backward_L.write(0)\n",
    "\n",
    "    enable_R.generate(10,duty)\n",
    "    forward_R.write(1)\n",
    "    backward_R.write(0)"
   ]
  },
  {
   "cell_type": "code",
   "execution_count": null,
   "metadata": {},
   "outputs": [],
   "source": [
    "def backward(duty):\n",
    "    enable_L.generate(10,duty)\n",
    "    forward_L.write(0)\n",
    "    backward_L.write(1)\n",
    "\n",
    "    enable_R.generate(10,duty)\n",
    "    forward_R.write(0)\n",
    "    backward_R.write(1)"
   ]
  },
  {
   "cell_type": "code",
   "execution_count": null,
   "metadata": {},
   "outputs": [],
   "source": [
    "def left(duty):\n",
    "    enable_L.generate(10,duty)\n",
    "    forward_L.write(0)\n",
    "    backward_L.write(1)\n",
    "\n",
    "    enable_R.generate(10,duty)\n",
    "    forward_R.write(1)\n",
    "    backward_R.write(0)"
   ]
  },
  {
   "cell_type": "code",
   "execution_count": null,
   "metadata": {},
   "outputs": [],
   "source": [
    "def right(duty):\n",
    "    enable_L.generate(10,duty)\n",
    "    forward_L.write(1)\n",
    "    backward_L.write(0)\n",
    "\n",
    "    enable_R.generate(10,duty)\n",
    "    forward_R.write(0)\n",
    "    backward_R.write(1)"
   ]
  },
  {
   "cell_type": "code",
   "execution_count": null,
   "metadata": {},
   "outputs": [],
   "source": [
    "def run(L_duty, R_duty):\n",
    "    enable_L.generate(10,L_duty)\n",
    "    forward_L.write(1)\n",
    "    backward_L.write(0)\n",
    "\n",
    "    enable_R.generate(10,R_duty)\n",
    "    forward_R.write(0)\n",
    "    backward_R.write(1)"
   ]
  },
  {
   "cell_type": "code",
   "execution_count": null,
   "metadata": {},
   "outputs": [],
   "source": [
    "# PWM duty from 0-99\n",
    "\n",
    "# When the L_duty > R_duty, the robot go right and forward\n",
    "L_duty = 90\n",
    "R_duty = 60\n",
    "\n",
    "run(L_duty, R_duty)"
   ]
  },
  {
   "cell_type": "code",
   "execution_count": null,
   "metadata": {},
   "outputs": [],
   "source": []
  }
 ],
 "metadata": {
  "kernelspec": {
   "display_name": "Python 3",
   "language": "python",
   "name": "python3"
  },
  "language_info": {
   "codemirror_mode": {
    "name": "ipython",
    "version": 3
   },
   "file_extension": ".py",
   "mimetype": "text/x-python",
   "name": "python",
   "nbconvert_exporter": "python",
   "pygments_lexer": "ipython3",
   "version": "3.6.5"
  }
 },
 "nbformat": 4,
 "nbformat_minor": 2
}
